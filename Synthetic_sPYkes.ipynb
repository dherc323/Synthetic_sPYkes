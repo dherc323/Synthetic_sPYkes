{
 "cells": [
  {
   "cell_type": "markdown",
   "metadata": {},
   "source": [
    "# Import Libraries/Packages:"
   ]
  },
  {
   "cell_type": "code",
   "execution_count": null,
   "metadata": {
    "collapsed": true
   },
   "outputs": [],
   "source": [
    "###Allows for plotting in jupyter notebooks:\n",
    "%matplotlib inline\n",
    "###Import necessary packages/libraries\n",
    "import matplotlib.pyplot as plt\n",
    "import numpy as np"
   ]
  },
  {
   "cell_type": "code",
   "execution_count": null,
   "metadata": {
    "collapsed": true
   },
   "outputs": [],
   "source": [
    "#Ask user for # of units:"
   ]
  },
  {
   "cell_type": "markdown",
   "metadata": {},
   "source": [
    "# Adjust Sine Waveform Amplitude and Translation:"
   ]
  },
  {
   "cell_type": "code",
   "execution_count": null,
   "metadata": {},
   "outputs": [],
   "source": [
    "### Ask for amplitude, and translation factor of unit, store in an array:\n",
    "def sine(x,A):\n",
    "    mod_sine = x + (A*(np.sin(np.arange(0,6.28,0.01))))\n",
    "    return mod_sine\n",
    "mod_sine = sine(0,1)\n",
    "mod_sine2 = sine(1,6)\n",
    "mod_sine.shape\n",
    "mod_sine2.shape\n",
    "\n"
   ]
  },
  {
   "cell_type": "markdown",
   "metadata": {},
   "source": [
    "# Change Recording Duration:"
   ]
  },
  {
   "cell_type": "code",
   "execution_count": null,
   "metadata": {},
   "outputs": [],
   "source": [
    "# Recording duration: \n",
    "def rec_duration(t_end):\n",
    "    t = np.arange(0,t_end,0.01)\n",
    "    return t\n",
    "t = rec_duration(150)\n",
    "\n",
    "# Make list of zeros that we'll be slicing from:\n",
    "zeros_list = [0]*len(t)\n",
    "len(zeros_list)"
   ]
  },
  {
   "cell_type": "markdown",
   "metadata": {},
   "source": [
    "# Adjust Probability Distribution, Intervals, and Number of Spikes for Unit:"
   ]
  },
  {
   "cell_type": "code",
   "execution_count": null,
   "metadata": {},
   "outputs": [],
   "source": [
    "### Ask for probability distribution of interspike intervals for one unit:\n",
    "def gaussian_ints(int_min, int_max, num_int): # Tip: Add 0.01 to 'int_max'\n",
    "    spiketime_ints = np.random.choice(np.arange(int_min, int_max, 0.01),num_int, replace = False)\n",
    "    spiketime_ints.sort()\n",
    "    return spiketime_ints\n",
    "\n",
    "### generate interspike intervals and spiketimes based on probability distribution for a single unit:\n",
    "spike_ints = gaussian_ints(6.28,50,3)\n",
    "print(\"Your spike intervals: \" + str(spike_ints))\n",
    "spike_start = np.cumsum(spike_ints)\n",
    "spike_end = spike_start + 6.28\n",
    "# print(\"Your spike times:\")\n",
    "# for start, end in zip(spike_start, spike_end):\n",
    "#     print (\"t = \" + str(start) + ' to ' +str(end))\n",
    "\n",
    "#Ask for average freq of unit:\n",
    "#Ask for duration of recording:"
   ]
  },
  {
   "cell_type": "markdown",
   "metadata": {},
   "source": [
    "## Spike Alignment:"
   ]
  },
  {
   "cell_type": "code",
   "execution_count": null,
   "metadata": {
    "collapsed": true
   },
   "outputs": [],
   "source": [
    "### Align spike peak of sine template to spiketime template:\n",
    "sine_peak = np.pi/2\n",
    "corrected_spike_start = spike_start-sine_peak\n",
    "corrected_spike_end = spike_end-sine_peak"
   ]
  },
  {
   "cell_type": "markdown",
   "metadata": {},
   "source": [
    "## Create Array Reflecting Scaled, and Translated Template of Unit:"
   ]
  },
  {
   "cell_type": "code",
   "execution_count": null,
   "metadata": {},
   "outputs": [],
   "source": [
    "all_spiketime_start_list_indeces = []\n",
    "### Gets the indeces of the corrected_spike_start list:\n",
    "for i in range(len(corrected_spike_start)):\n",
    "    all_spiketime_start_list_indeces.append(i)\n",
    "print(all_spiketime_start_list_indeces)\n",
    "    \n",
    "for spiketime in all_spiketime_start_list_indeces:\n",
    "    start = int(100*(float(corrected_spike_start[spiketime])))\n",
    "    print(\"Start: \" + str(start) + \", or \" + str(start/100) + \"\")\n",
    "    end = int(100*(float(corrected_spike_end[spiketime])))\n",
    "    print(\"End: \" + str(end)+ \", or \" + str(end/100))\n",
    "    zeros_list[start:end] = mod_sine\n",
    "    print(\"Length of modified sine's array:\" + str(np.shape(mod_sine)))\n",
    "    print(\"Length of zero's list array:\" + str(np.shape(zeros_list)) +\"\\n\")\n",
    "# IMPORTANT: ARRAY THAT STORES Y_VALUES OF PLOT: \n",
    "y_values = zeros_list\n",
    "plt.plot(t,y_values)        "
   ]
  },
  {
   "cell_type": "code",
   "execution_count": null,
   "metadata": {},
   "outputs": [],
   "source": [
    "#from prob distribution, give me spiketimes:\n",
    "def poisson_ints(exp_value, num_spikes):\n",
    "    spiketime_ints2 = np.random.poisson(exp_value, num_spikes)\n",
    "    spiketime_ints2.sort()\n",
    "    return spiketime_ints2\n",
    "### generate interspike intervals and spiketimes based on probability distribution for a single unit:\n",
    "spike_ints2 = poisson_ints(5,3)\n",
    "print(\"Your spike intervals: \" + str(spike_ints2))\n",
    "spike_start2 = np.cumsum(spike_ints2)\n",
    "spike_end2 = spike_start2 + 6.28"
   ]
  },
  {
   "cell_type": "code",
   "execution_count": null,
   "metadata": {},
   "outputs": [],
   "source": [
    "### Align spike peak of sine template to spiketime template:\n",
    "sine_peak = np.pi/2\n",
    "corrected_spike_start2 = spike_start2-sine_peak\n",
    "corrected_spike_end2 = spike_end2-sine_peak\n",
    "corrected_spike_start2"
   ]
  },
  {
   "cell_type": "code",
   "execution_count": null,
   "metadata": {
    "scrolled": true
   },
   "outputs": [],
   "source": [
    "all_spiketime_start_list_indeces2 = []\n",
    "### Gets the indeces of the corrected_spike_start list:\n",
    "for i in range(len(corrected_spike_start2)):\n",
    "    all_spiketime_start_list_indeces2.append(i)\n",
    "print(all_spiketime_start_list_indeces2)\n",
    "\n",
    "for spiketime in all_spiketime_start_list_indeces2:\n",
    "    start = int(100*(float(corrected_spike_start2[spiketime])))\n",
    "    print(\"Start: \" + str(start) + \", or \" + str(start/100) + \"\")\n",
    "    end = int(100*(float(corrected_spike_end2[spiketime])))\n",
    "    print(\"End: \" + str(end)+ \", or \" + str(end/100))\n",
    "    check_y_ints = y_values[start:end] \n",
    "    #Check list of y values to ensure we don't overwrite spikes from previous distributions:I\n",
    "    for y_coordinate in check_y_ints: \n",
    "        if y_coordinate == 0:\n",
    "            y_values[start:end] = mod_sine2\n",
    "    \n",
    "plt.plot(t,y_values)         \n",
    "        \n",
    "        \n",
    "        \n",
    "\n",
    "        \n",
    "#     y_values[start:end] = mod_sine\n",
    "#     print(\"Length of modified sine's array:\" + str(np.shape(mod_sine)))\n",
    "#     print(\"Length of zero's list array:\" + str(np.shape(zeros_list)) +\"\\n\")\n",
    "# # create interval from start of spiketime to st_start+6.28\n",
    "# # use the interval to set indeces\n",
    "# # if interval indeces has a value greater than 0, don't print and skip or 'pass'"
   ]
  },
  {
   "cell_type": "code",
   "execution_count": null,
   "metadata": {
    "collapsed": true
   },
   "outputs": [],
   "source": []
  },
  {
   "cell_type": "code",
   "execution_count": null,
   "metadata": {
    "collapsed": true
   },
   "outputs": [],
   "source": []
  }
 ],
 "metadata": {
  "kernelspec": {
   "display_name": "Python 3",
   "language": "python",
   "name": "python3"
  },
  "language_info": {
   "codemirror_mode": {
    "name": "ipython",
    "version": 3
   },
   "file_extension": ".py",
   "mimetype": "text/x-python",
   "name": "python",
   "nbconvert_exporter": "python",
   "pygments_lexer": "ipython3",
   "version": "3.6.1"
  }
 },
 "nbformat": 4,
 "nbformat_minor": 2
}
